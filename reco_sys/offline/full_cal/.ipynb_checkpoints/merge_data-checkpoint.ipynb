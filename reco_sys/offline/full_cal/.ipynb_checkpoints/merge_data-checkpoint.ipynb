{
 "cells": [
  {
   "cell_type": "markdown",
   "metadata": {},
   "source": [
    "### 生成article_data"
   ]
  },
  {
   "cell_type": "code",
   "execution_count": 1,
   "metadata": {},
   "outputs": [],
   "source": [
    "import os\n",
    "import sys\n",
    "# 如果当前代码文件运行测试需要加入修改路径，避免出现后导包问题\n",
    "BASE_DIR = os.path.dirname(os.path.dirname(os.getcwd()))\n",
    "sys.path.insert(0, os.path.join(BASE_DIR))\n",
    "PYSPARK_PYTHON = \"/miniconda2/envs/reco_sys/bin/python\"\n",
    "# 当存在多个版本时，不指定很可能会导致出错\n",
    "os.environ[\"PYSPARK_PYTHON\"] = PYSPARK_PYTHON\n",
    "os.environ[\"PYSPARK_DRIVER_PYTHON\"] = PYSPARK_PYTHON\n",
    "from offline import SparkSessionBase"
   ]
  },
  {
   "cell_type": "code",
   "execution_count": 2,
   "metadata": {},
   "outputs": [],
   "source": [
    "class OriginArticleData(SparkSessionBase):\n",
    "\n",
    "\n",
    "    SPARK_APP_NAME = \"mergeArticle\"\n",
    "    SPARK_URL = \"yarn\"\n",
    "\n",
    "    ENABLE_HIVE_SUPPORT = True\n",
    "\n",
    "    def __init__(self):\n",
    "        self.spark = self._create_spark_session()"
   ]
  },
  {
   "cell_type": "code",
   "execution_count": 3,
   "metadata": {
    "scrolled": false
   },
   "outputs": [
    {
     "data": {
      "text/plain": [
       "True"
      ]
     },
     "execution_count": 3,
     "metadata": {},
     "output_type": "execute_result"
    }
   ],
   "source": [
    "oa = OriginArticleData()\n",
    "oa.ENABLE_HIVE_SUPPORT"
   ]
  },
  {
   "cell_type": "code",
   "execution_count": 4,
   "metadata": {},
   "outputs": [],
   "source": [
    "oa.spark.sql(\"use toutiao\")\n",
    "basic_content = oa.spark.sql(\"select a.article_id, a.channel_id, a.title, b.content from news_article_basic a inner join news_article_content b on a.article_id=b.article_id where a.article_id=116636\")"
   ]
  },
  {
   "cell_type": "code",
   "execution_count": 5,
   "metadata": {},
   "outputs": [
    {
     "name": "stdout",
     "output_type": "stream",
     "text": [
      "+----------+----------+-----+-------+\n",
      "|article_id|channel_id|title|content|\n",
      "+----------+----------+-----+-------+\n",
      "+----------+----------+-----+-------+\n",
      "\n"
     ]
    }
   ],
   "source": [
    "basic_content.show()"
   ]
  },
  {
   "cell_type": "code",
   "execution_count": 9,
   "metadata": {},
   "outputs": [],
   "source": [
    "article_ids = oa.spark.sql(\"select * from news_article_basic\")"
   ]
  },
  {
   "cell_type": "code",
   "execution_count": 10,
   "metadata": {},
   "outputs": [
    {
     "name": "stdout",
     "output_type": "stream",
     "text": [
      "+----------+-------+----------+--------------------+------+--------------------+\n",
      "|article_id|user_id|channel_id|               title|status|         update_time|\n",
      "+----------+-------+----------+--------------------+------+--------------------+\n",
      "|    141430|      1|        13|           测试文章：人工智能|     2|2019-03-18 12:17:...|\n",
      "|    141431|      1|        13|        测试文章二：人工智能02|     2|2019-03-20 14:19:...|\n",
      "|    141436|      1|         1|             likg001|     2|2019-03-11 09:35:...|\n",
      "|    141437|      1|         7|            11111111|     2|2019-03-20 15:01:...|\n",
      "|    141439|      1|        24|              123456|     2|2019-03-11 13:34:...|\n",
      "|    141440|      1|         5|           111111111|     2|2019-03-20 15:06:...|\n",
      "|    141444|      1|        24|              123456|     2|2019-03-11 13:34:...|\n",
      "|    141445|      1|        24|              123456|     2|2019-03-11 13:59:...|\n",
      "|    141450|      4|         4|         66666666666|     2|2019-03-13 18:01:...|\n",
      "|    141452|      4|         3|            22222222|     3|2019-03-18 12:18:...|\n",
      "|    141453|      4|         3|test-20190315-115214|     2|2019-03-15 15:15:...|\n",
      "|    141462|      4|         3|test-20190316-115123|     2|2019-03-18 15:19:...|\n",
      "|    141463|      4|         3|test-20190316-115147|     2|2019-03-18 14:36:...|\n",
      "|    141464|      4|        10|test-20190316-175957|     2|2019-03-18 14:27:...|\n",
      "|    141469|      4|         7|     test20190320001|     2|2019-03-20 16:02:...|\n",
      "+----------+-------+----------+--------------------+------+--------------------+\n",
      "\n"
     ]
    }
   ],
   "source": [
    "article_ids.show()"
   ]
  },
  {
   "cell_type": "code",
   "execution_count": 8,
   "metadata": {},
   "outputs": [
    {
     "name": "stdout",
     "output_type": "stream",
     "text": [
      "+----------+--------------------+\n",
      "|article_id|             content|\n",
      "+----------+--------------------+\n",
      "|         1|<p><strong>Vue pr...|\n",
      "|         2|<p>上次我们已经分析了vue.j...|\n",
      "|         3|<p>要理解 JavaScript...|\n",
      "|         4|<p>效果演示地址,</p><p>...|\n",
      "|         5|<p><img src=\"http...|\n",
      "|         6|<span id=\"OSC_h1_...|\n",
      "|         7|<p>我经常构建使用以太坊的Web...|\n",
      "|         8|<h2>webpack 最近升级到...|\n",
      "|         9|<h4>前言</h4><p>如何在...|\n",
      "|        10|<p>本文由腾讯云技术团队原创，感...|\n",
      "|        11|<h1>flux架构，是我理解错了...|\n",
      "|        12|<h2>写在前面</h2><p>T...|\n",
      "|        13|<p><img height=\"7...|\n",
      "|        14|<blockquote><p><s...|\n",
      "|        15|<h3>1 ajax概述</h3>...|\n",
      "|        17|<p>在篇文章里，我们主要讲解一下...|\n",
      "|        18|<h2>环境主要依赖版本</h2>...|\n",
      "|        19|<h2>项目相关</h2><ol>...|\n",
      "|        20|<h4>有关 jquery 用法<...|\n",
      "|        21|<p>        网上有许多给...|\n",
      "+----------+--------------------+\n",
      "only showing top 20 rows\n",
      "\n"
     ]
    }
   ],
   "source": [
    "oa.spark.sql(\"select * from news_article_content\").show()"
   ]
  },
  {
   "cell_type": "code",
   "execution_count": null,
   "metadata": {},
   "outputs": [],
   "source": [
    "# 该课程的news_article_basic和news_article_content的数据是不全的\n",
    "import pyspark.sql.functions as F\n",
    "import gc\n",
    "\n",
    "# 增加channel的名字，后面会使用\n",
    "basic_content.registerTempTable(\"temparticle\")\n",
    "channel_basic_content = oa.spark.sql(\n",
    "  \"select t.*, n.channel_name from temparticle t left join news_channel n on t.channel_id=n.channel_id\")\n",
    "\n",
    "# 利用concat_ws方法，将多列数据合并为一个长文本内容（频道，标题以及内容合并）\n",
    "oa.spark.sql(\"use article\")\n",
    "sentence_df = channel_basic_content.select(\"article_id\", \"channel_id\", \"channel_name\", \"title\", \"content\", \\\n",
    "                                           F.concat_ws(\n",
    "                                             \",\",\n",
    "                                             channel_basic_content.channel_name,\n",
    "                                             channel_basic_content.title,\n",
    "                                             channel_basic_content.content\n",
    "                                           ).alias(\"sentence\")\n",
    "                                          )\n",
    "del basic_content\n",
    "del channel_basic_content\n",
    "gc.collect()\n",
    "\n",
    "# sentence_df.write.insertInto(\"article_data\")"
   ]
  },
  {
   "cell_type": "code",
   "execution_count": 11,
   "metadata": {
    "scrolled": false
   },
   "outputs": [
    {
     "name": "stdout",
     "output_type": "stream",
     "text": [
      "+----------+---------+----------+\n",
      "|  col_name|data_type|   comment|\n",
      "+----------+---------+----------+\n",
      "|article_id|   bigint|article_id|\n",
      "|   content|   string|   content|\n",
      "+----------+---------+----------+\n",
      "\n"
     ]
    }
   ],
   "source": [
    "oa.spark.sql(\"desc news_article_content\").show()"
   ]
  }
 ],
 "metadata": {
  "kernelspec": {
   "display_name": "Python 3",
   "language": "python",
   "name": "python3"
  },
  "language_info": {
   "codemirror_mode": {
    "name": "ipython",
    "version": 3
   },
   "file_extension": ".py",
   "mimetype": "text/x-python",
   "name": "python",
   "nbconvert_exporter": "python",
   "pygments_lexer": "ipython3",
   "version": "3.6.7"
  }
 },
 "nbformat": 4,
 "nbformat_minor": 1
}
